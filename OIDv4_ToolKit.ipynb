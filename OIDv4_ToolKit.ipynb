{
  "nbformat": 4,
  "nbformat_minor": 0,
  "metadata": {
    "colab": {
      "name": "OIDv4_ToolKit.ipynb",
      "provenance": [],
      "collapsed_sections": []
    },
    "kernelspec": {
      "name": "python3",
      "display_name": "Python 3"
    }
  },
  "cells": [
    {
      "cell_type": "markdown",
      "metadata": {
        "id": "lrMB5u4pvOWi"
      },
      "source": [
        "** to access OIDV4 toolkit **"
      ]
    },
    {
      "cell_type": "code",
      "metadata": {
        "id": "lbx1VcTkx7D_",
        "outputId": "2c63a3f9-2875-4088-b863-62154523b78f",
        "colab": {
          "base_uri": "https://localhost:8080/",
          "height": 102
        }
      },
      "source": [
        "!git clone https://github.com/EscVM/OIDv4_ToolKit.git\n"
      ],
      "execution_count": null,
      "outputs": [
        {
          "output_type": "stream",
          "text": [
            "Cloning into 'OIDv4_ToolKit'...\n",
            "remote: Enumerating objects: 422, done.\u001b[K\n",
            "remote: Total 422 (delta 0), reused 0 (delta 0), pack-reused 422\u001b[K\n",
            "Receiving objects: 100% (422/422), 34.08 MiB | 10.62 MiB/s, done.\n",
            "Resolving deltas: 100% (146/146), done.\n"
          ],
          "name": "stdout"
        }
      ]
    },
    {
      "cell_type": "code",
      "metadata": {
        "id": "k3z6Tl6TyI_3",
        "outputId": "26572023-e657-4347-e9b6-6773e2680409",
        "colab": {
          "base_uri": "https://localhost:8080/",
          "height": 51
        }
      },
      "source": [
        "!ls\n"
      ],
      "execution_count": null,
      "outputs": [
        {
          "output_type": "stream",
          "text": [
            "classes.txt  LICENSE  modules  OIDv4_ToolKit  requirements.txt\n",
            "images\t     main.py  OID      README.md\n"
          ],
          "name": "stdout"
        }
      ]
    },
    {
      "cell_type": "markdown",
      "metadata": {
        "id": "tNU85eO1vol_"
      },
      "source": [
        "** Change folder to OIDv4_ToolKit**"
      ]
    },
    {
      "cell_type": "code",
      "metadata": {
        "id": "FNgQuEJ4yMBm",
        "outputId": "5b381215-be6f-4241-92f6-9c86bf16dd55",
        "colab": {
          "base_uri": "https://localhost:8080/",
          "height": 34
        }
      },
      "source": [
        "%cd OIDv4_ToolKit"
      ],
      "execution_count": null,
      "outputs": [
        {
          "output_type": "stream",
          "text": [
            "/content/OIDv4_ToolKit/OIDv4_ToolKit\n"
          ],
          "name": "stdout"
        }
      ]
    },
    {
      "cell_type": "markdown",
      "metadata": {
        "id": "1TSxBM3VvtQQ"
      },
      "source": [
        "**Step-3 Install the required libraries **"
      ]
    },
    {
      "cell_type": "code",
      "metadata": {
        "id": "8M50KaRLyUtK",
        "outputId": "7ee7dcb8-9237-4629-9886-8ee12d481797",
        "colab": {
          "base_uri": "https://localhost:8080/",
          "height": 326
        }
      },
      "source": [
        "pip install -r requirements.txt"
      ],
      "execution_count": null,
      "outputs": [
        {
          "output_type": "stream",
          "text": [
            "Requirement already satisfied: pandas in /usr/local/lib/python3.6/dist-packages (from -r requirements.txt (line 1)) (1.1.2)\n",
            "Requirement already satisfied: numpy in /usr/local/lib/python3.6/dist-packages (from -r requirements.txt (line 2)) (1.18.5)\n",
            "Requirement already satisfied: awscli in /usr/local/lib/python3.6/dist-packages (from -r requirements.txt (line 3)) (1.18.156)\n",
            "Requirement already satisfied: urllib3 in /usr/local/lib/python3.6/dist-packages (from -r requirements.txt (line 5)) (1.24.3)\n",
            "Requirement already satisfied: tqdm in /usr/local/lib/python3.6/dist-packages (from -r requirements.txt (line 7)) (4.41.1)\n",
            "Requirement already satisfied: opencv-python in /usr/local/lib/python3.6/dist-packages (from -r requirements.txt (line 9)) (4.1.2.30)\n",
            "Requirement already satisfied: pytz>=2017.2 in /usr/local/lib/python3.6/dist-packages (from pandas->-r requirements.txt (line 1)) (2018.9)\n",
            "Requirement already satisfied: python-dateutil>=2.7.3 in /usr/local/lib/python3.6/dist-packages (from pandas->-r requirements.txt (line 1)) (2.8.1)\n",
            "Requirement already satisfied: botocore==1.18.15 in /usr/local/lib/python3.6/dist-packages (from awscli->-r requirements.txt (line 3)) (1.18.15)\n",
            "Requirement already satisfied: colorama<0.4.4,>=0.2.5; python_version != \"3.4\" in /usr/local/lib/python3.6/dist-packages (from awscli->-r requirements.txt (line 3)) (0.4.3)\n",
            "Requirement already satisfied: docutils<0.16,>=0.10 in /usr/local/lib/python3.6/dist-packages (from awscli->-r requirements.txt (line 3)) (0.15.2)\n",
            "Requirement already satisfied: s3transfer<0.4.0,>=0.3.0 in /usr/local/lib/python3.6/dist-packages (from awscli->-r requirements.txt (line 3)) (0.3.3)\n",
            "Requirement already satisfied: PyYAML<5.4,>=3.10; python_version != \"3.4\" in /usr/local/lib/python3.6/dist-packages (from awscli->-r requirements.txt (line 3)) (3.13)\n",
            "Requirement already satisfied: rsa<=4.5.0,>=3.1.2; python_version != \"3.4\" in /usr/local/lib/python3.6/dist-packages (from awscli->-r requirements.txt (line 3)) (4.5)\n",
            "Requirement already satisfied: six>=1.5 in /usr/local/lib/python3.6/dist-packages (from python-dateutil>=2.7.3->pandas->-r requirements.txt (line 1)) (1.15.0)\n",
            "Requirement already satisfied: jmespath<1.0.0,>=0.7.1 in /usr/local/lib/python3.6/dist-packages (from botocore==1.18.15->awscli->-r requirements.txt (line 3)) (0.10.0)\n",
            "Requirement already satisfied: pyasn1>=0.1.3 in /usr/local/lib/python3.6/dist-packages (from rsa<=4.5.0,>=3.1.2; python_version != \"3.4\"->awscli->-r requirements.txt (line 3)) (0.4.8)\n"
          ],
          "name": "stdout"
        }
      ]
    },
    {
      "cell_type": "code",
      "metadata": {
        "id": "ImxvmVp0y-eA",
        "outputId": "ca5d42e2-94fd-4ddc-dccc-4eb534f83ab0",
        "colab": {
          "base_uri": "https://localhost:8080/",
          "height": 34
        }
      },
      "source": [
        "!ls\n"
      ],
      "execution_count": null,
      "outputs": [
        {
          "output_type": "stream",
          "text": [
            "classes.txt  images  LICENSE  main.py  modules\tREADME.md  requirements.txt\n"
          ],
          "name": "stdout"
        }
      ]
    },
    {
      "cell_type": "markdown",
      "metadata": {
        "id": "XvkVgNmzwNpJ"
      },
      "source": [
        "**To test if everything is working **"
      ]
    },
    {
      "cell_type": "code",
      "metadata": {
        "id": "UrPQf5G8yhO8",
        "outputId": "c7f729dc-f338-4de6-836d-d92698412ee9",
        "colab": {
          "base_uri": "https://localhost:8080/",
          "height": 901
        }
      },
      "source": [
        "!python main.py -h"
      ],
      "execution_count": null,
      "outputs": [
        {
          "output_type": "stream",
          "text": [
            "usage: main.py [-h] [--Dataset /path/to/OID/csv/] [-y]\n",
            "               [--classes list of classes [list of classes ...]]\n",
            "               [--type_csv 'train' or 'validation' or 'test' or 'all']\n",
            "               [--sub Subset of human verified images or machine generated h or m)]\n",
            "               [--image_IsOccluded 1 or 0] [--image_IsTruncated 1 or 0]\n",
            "               [--image_IsGroupOf 1 or 0] [--image_IsDepiction 1 or 0]\n",
            "               [--image_IsInside 1 or 0] [--multiclasses 0 (default or 1]\n",
            "               [--n_threads [default 20]] [--noLabels]\n",
            "               [--limit integer number]\n",
            "               <command> 'downloader', 'visualizer' or 'ill_downloader'.\n",
            "\n",
            "Open Image Dataset Downloader\n",
            "\n",
            "positional arguments:\n",
            "  <command> 'downloader', 'visualizer' or 'ill_downloader'.\n",
            "                        'downloader', 'visualizer' or 'ill_downloader'.\n",
            "\n",
            "optional arguments:\n",
            "  -h, --help            show this help message and exit\n",
            "  --Dataset /path/to/OID/csv/\n",
            "                        Directory of the OID dataset folder\n",
            "  -y, --yes             ans Yes to possible download of missing files\n",
            "  --classes list of classes [list of classes ...]\n",
            "                        Sequence of 'strings' of the wanted classes\n",
            "  --type_csv 'train' or 'validation' or 'test' or 'all'\n",
            "                        From what csv search the images\n",
            "  --sub Subset of human verified images or machine generated (h or m)\n",
            "                        Download from the human verified dataset or from the\n",
            "                        machine generated one.\n",
            "  --image_IsOccluded 1 or 0\n",
            "                        Optional characteristic of the images. Indicates that\n",
            "                        the object is occluded by another object in the image.\n",
            "  --image_IsTruncated 1 or 0\n",
            "                        Optional characteristic of the images. Indicates that\n",
            "                        the object extends beyond the boundary of the image.\n",
            "  --image_IsGroupOf 1 or 0\n",
            "                        Optional characteristic of the images. Indicates that\n",
            "                        the box spans a group of objects (min 5).\n",
            "  --image_IsDepiction 1 or 0\n",
            "                        Optional characteristic of the images. Indicates that\n",
            "                        the object is a depiction.\n",
            "  --image_IsInside 1 or 0\n",
            "                        Optional characteristic of the images. Indicates a\n",
            "                        picture taken from the inside of the object.\n",
            "  --multiclasses 0 (default) or 1\n",
            "                        Download different classes separately (0) or together\n",
            "                        (1)\n",
            "  --n_threads [default 20]\n",
            "                        Num of the threads to use\n",
            "  --noLabels            No labels creations\n",
            "  --limit integer number\n",
            "                        Optional limit on number of images to download\n"
          ],
          "name": "stdout"
        }
      ]
    },
    {
      "cell_type": "markdown",
      "metadata": {
        "id": "A07DOztmwWcI"
      },
      "source": [
        "**To Mount google drive in order to store data **"
      ]
    },
    {
      "cell_type": "code",
      "metadata": {
        "id": "TgZafkrA2Byg",
        "outputId": "0138686a-7517-4db2-98c6-2c289e0ebc63",
        "colab": {
          "base_uri": "https://localhost:8080/",
          "height": 51
        }
      },
      "source": [
        "%cd ..\n",
        "from google.colab import drive\n",
        "drive.mount('/content/gdrive')"
      ],
      "execution_count": null,
      "outputs": [
        {
          "output_type": "stream",
          "text": [
            "/content/OIDv4_ToolKit\n",
            "Drive already mounted at /content/gdrive; to attempt to forcibly remount, call drive.mount(\"/content/gdrive\", force_remount=True).\n"
          ],
          "name": "stdout"
        }
      ]
    },
    {
      "cell_type": "code",
      "metadata": {
        "id": "LFLWHiL62Qn0",
        "outputId": "c1e9fd7d-bd7d-4074-f1ed-c636800fa733",
        "colab": {
          "base_uri": "https://localhost:8080/",
          "height": 51
        }
      },
      "source": [
        "# this creates a symbolic link so that now the path /content/gdrive/My\\ Drive/ is equal to /mydrive\n",
        "!ln -s /content/gdrive/My\\ Drive/ /mydrive\n",
        "!ls /mydrive"
      ],
      "execution_count": null,
      "outputs": [
        {
          "output_type": "stream",
          "text": [
            "'Essay Report submission  (File responses)'  'My Drive'   OlD\n",
            "'Essay Report submission .gform'\t      OID1\t  OlD1\n"
          ],
          "name": "stdout"
        }
      ]
    },
    {
      "cell_type": "code",
      "metadata": {
        "id": "t6AUjLAnzGQj"
      },
      "source": [
        "#!python main.py downloader --classes Helicopter Medical_equipment Ladder Band-aid --type_csv train"
      ],
      "execution_count": null,
      "outputs": []
    },
    {
      "cell_type": "markdown",
      "metadata": {
        "id": "j-YIquffwzTI"
      },
      "source": [
        "**This piece of code will help you to download the images with bounding boxes** "
      ]
    },
    {
      "cell_type": "code",
      "metadata": {
        "id": "bqjNPeqbz-7K",
        "outputId": "1e861284-69fc-47f6-b417-85c5b7bdd751",
        "colab": {
          "base_uri": "https://localhost:8080/",
          "height": 607
        }
      },
      "source": [
        "!python main.py downloader --classes Personal_care Bowl --type_csv train"
      ],
      "execution_count": null,
      "outputs": [
        {
          "output_type": "stream",
          "text": [
            "\u001b[92m\n",
            "\t\t   ___   _____  ______            _    _    \n",
            "\t\t .'   `.|_   _||_   _ `.         | |  | |   \n",
            "\t\t/  .-.  \\ | |    | | `. \\ _   __ | |__| |_  \n",
            "\t\t| |   | | | |    | |  | |[ \\ [  ]|____   _| \n",
            "\t\t\\  `-'  /_| |_  _| |_.' / \\ \\/ /     _| |_  \n",
            "\t\t `.___.'|_____||______.'   \\__/     |_____|\n",
            "\t\u001b[0m\n",
            "\u001b[92m\n",
            "             _____                    _                 _             \n",
            "            (____ \\                  | |               | |            \n",
            "             _   \\ \\ ___  _ _ _ ____ | | ___   ____  _ | | ____  ____ \n",
            "            | |   | / _ \\| | | |  _ \\| |/ _ \\ / _  |/ || |/ _  )/ ___)\n",
            "            | |__/ / |_| | | | | | | | | |_| ( ( | ( (_| ( (/ /| |    \n",
            "            |_____/ \\___/ \\____|_| |_|_|\\___/ \\_||_|\\____|\\____)_|    \n",
            "                                                          \n",
            "        \u001b[0m\n",
            "    [INFO] | Downloading Personal care.\u001b[0m\n",
            "\n",
            "\u001b[95mPersonal care\u001b[0m\n",
            "    [INFO] | Downloading train images.\u001b[0m\n",
            "    [INFO] | [INFO] Found 128 online images for train.\u001b[0m\n",
            "    [INFO] | Download of 128 images in train.\u001b[0m\n",
            "100% 128/128 [01:15<00:00,  1.69it/s]\n",
            "    [INFO] | Done!\u001b[0m\n",
            "    [INFO] | Creating labels for Personal care of train.\u001b[0m\n",
            "    [INFO] | Labels creation completed.\u001b[0m\n",
            "    [INFO] | Downloading Bowl.\u001b[0m\n",
            "\n",
            "\u001b[95mBowl\u001b[0m\n",
            "    [INFO] | Downloading train images.\u001b[0m\n",
            "    [INFO] | [INFO] Found 1464 online images for train.\u001b[0m\n",
            "    [INFO] | Download of 1464 images in train.\u001b[0m\n",
            " 26% 386/1464 [03:32<09:11,  1.96it/s]"
          ],
          "name": "stdout"
        }
      ]
    },
    {
      "cell_type": "code",
      "metadata": {
        "id": "SKkAhEiv2Uug"
      },
      "source": [
        "!ls"
      ],
      "execution_count": null,
      "outputs": []
    },
    {
      "cell_type": "code",
      "metadata": {
        "id": "M8fTErit2Xyj"
      },
      "source": [
        "%cd OIDv4_ToolKit"
      ],
      "execution_count": null,
      "outputs": []
    },
    {
      "cell_type": "code",
      "metadata": {
        "id": "v5cqTOty3X2B"
      },
      "source": [
        "!ls /content/OIDv4_ToolKit/OID/Dataset/train"
      ],
      "execution_count": null,
      "outputs": []
    },
    {
      "cell_type": "markdown",
      "metadata": {
        "id": "i65w_zmSw8jp"
      },
      "source": [
        "**Now save the download data in google drive**"
      ]
    },
    {
      "cell_type": "code",
      "metadata": {
        "id": "gqAq1Qrf4cEr"
      },
      "source": [
        "%cp -av /content/OIDv4_ToolKit/OID/Dataset/train /mydrive/OID/\n",
        "\n",
        "#!zip /content/OIDv4_ToolKit/OID/Dataset/train/Ambulance"
      ],
      "execution_count": null,
      "outputs": []
    }
  ]
}